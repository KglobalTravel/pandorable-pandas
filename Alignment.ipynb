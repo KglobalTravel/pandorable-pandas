{
 "cells": [
  {
   "cell_type": "code",
   "execution_count": 1,
   "metadata": {},
   "outputs": [],
   "source": [
    "import numpy as np\n",
    "import pandas as pd\n",
    "import matplotlib.pyplot as plt"
   ]
  },
  {
   "cell_type": "markdown",
   "metadata": {},
   "source": [
    "## Goal: Compute Real GDP\n",
    "\n",
    "In the US, the Bureau of Economic Analysis already provides an estimate of real GDP. We'll calculate something similar:\n",
    "\n",
    "$$\n",
    "real\\_GDP = \\frac{nominal\\_GDP}{price\\_index}\n",
    "$$\n",
    "\n",
    "* U.S. Bureau of Labor Statistics, Consumer Price Index for All Urban Consumers: All Items in U.S. City Average [CPIAUCSL], retrieved from FRED, Federal Reserve Bank of St. Louis; https://fred.stlouisfed.org/series/CPIAUCSL, October 31, 2020.\n",
    "* U.S. Bureau of Economic Analysis, Gross Domestic Product [GDP], retrieved from FRED, Federal Reserve Bank of St. Louis; https://fred.stlouisfed.org/series/GDP, October 31, 2020."
   ]
  },
  {
   "cell_type": "code",
   "execution_count": 18,
   "metadata": {},
   "outputs": [],
   "source": [
    "gdp_bad = pd.read_csv(\"data/GDP.csv.gz\")\n",
    "cpi_bad = pd.read_csv(\"data/CPIAUCSL.csv.gz\")"
   ]
  },
  {
   "cell_type": "markdown",
   "metadata": {},
   "source": [
    "Our formula says `real_gdp = gdp / cpi`, so..."
   ]
  },
  {
   "cell_type": "code",
   "execution_count": 21,
   "metadata": {},
   "outputs": [
    {
     "name": "stdout",
     "output_type": "stream",
     "text": [
      "Exception reporting mode: Plain\n"
     ]
    },
    {
     "ename": "TypeError",
     "evalue": "unsupported operand type(s) for /: 'str' and 'str'",
     "output_type": "error",
     "traceback": [
      "Traceback \u001b[0;36m(most recent call last)\u001b[0m:\n",
      "  File \u001b[1;32m\"/Users/taugspurger/miniconda3/envs/pandorable-pandas/lib/python3.9/site-packages/pandas/core/ops/array_ops.py\"\u001b[0m, line \u001b[1;32m143\u001b[0m, in \u001b[1;35mna_arithmetic_op\u001b[0m\n    result = expressions.evaluate(op, left, right)\n",
      "  File \u001b[1;32m\"/Users/taugspurger/miniconda3/envs/pandorable-pandas/lib/python3.9/site-packages/pandas/core/computation/expressions.py\"\u001b[0m, line \u001b[1;32m233\u001b[0m, in \u001b[1;35mevaluate\u001b[0m\n    return _evaluate(op, op_str, a, b)  # type: ignore\n",
      "\u001b[0;36m  File \u001b[0;32m\"/Users/taugspurger/miniconda3/envs/pandorable-pandas/lib/python3.9/site-packages/pandas/core/computation/expressions.py\"\u001b[0;36m, line \u001b[0;32m68\u001b[0;36m, in \u001b[0;35m_evaluate_standard\u001b[0;36m\u001b[0m\n\u001b[0;31m    return op(a, b)\u001b[0m\n",
      "\u001b[0;31mTypeError\u001b[0m\u001b[0;31m:\u001b[0m unsupported operand type(s) for /: 'str' and 'str'\n",
      "\nDuring handling of the above exception, another exception occurred:\n",
      "Traceback \u001b[0;36m(most recent call last)\u001b[0m:\n",
      "  File \u001b[1;32m\"<ipython-input-21-8d09b4c79123>\"\u001b[0m, line \u001b[1;32m3\u001b[0m, in \u001b[1;35m<module>\u001b[0m\n    gdp_bad / cpi_bad\n",
      "  File \u001b[1;32m\"/Users/taugspurger/miniconda3/envs/pandorable-pandas/lib/python3.9/site-packages/pandas/core/ops/__init__.py\"\u001b[0m, line \u001b[1;32m636\u001b[0m, in \u001b[1;35mf\u001b[0m\n    return _frame_arith_method_with_reindex(self, other, op)\n",
      "  File \u001b[1;32m\"/Users/taugspurger/miniconda3/envs/pandorable-pandas/lib/python3.9/site-packages/pandas/core/ops/__init__.py\"\u001b[0m, line \u001b[1;32m572\u001b[0m, in \u001b[1;35m_frame_arith_method_with_reindex\u001b[0m\n    result = op(new_left, new_right)\n",
      "  File \u001b[1;32m\"/Users/taugspurger/miniconda3/envs/pandorable-pandas/lib/python3.9/site-packages/pandas/core/ops/__init__.py\"\u001b[0m, line \u001b[1;32m651\u001b[0m, in \u001b[1;35mf\u001b[0m\n    new_data = self._combine_frame(other, na_op, fill_value)\n",
      "  File \u001b[1;32m\"/Users/taugspurger/miniconda3/envs/pandorable-pandas/lib/python3.9/site-packages/pandas/core/frame.py\"\u001b[0m, line \u001b[1;32m5866\u001b[0m, in \u001b[1;35m_combine_frame\u001b[0m\n    new_data = ops.dispatch_to_series(self, other, _arith_op)\n",
      "  File \u001b[1;32m\"/Users/taugspurger/miniconda3/envs/pandorable-pandas/lib/python3.9/site-packages/pandas/core/ops/__init__.py\"\u001b[0m, line \u001b[1;32m275\u001b[0m, in \u001b[1;35mdispatch_to_series\u001b[0m\n    bm = left._mgr.operate_blockwise(right._mgr, array_op)\n",
      "  File \u001b[1;32m\"/Users/taugspurger/miniconda3/envs/pandorable-pandas/lib/python3.9/site-packages/pandas/core/internals/managers.py\"\u001b[0m, line \u001b[1;32m364\u001b[0m, in \u001b[1;35moperate_blockwise\u001b[0m\n    return operate_blockwise(self, other, array_op)\n",
      "  File \u001b[1;32m\"/Users/taugspurger/miniconda3/envs/pandorable-pandas/lib/python3.9/site-packages/pandas/core/internals/ops.py\"\u001b[0m, line \u001b[1;32m38\u001b[0m, in \u001b[1;35moperate_blockwise\u001b[0m\n    res_values = array_op(lvals, rvals)\n",
      "  File \u001b[1;32m\"/Users/taugspurger/miniconda3/envs/pandorable-pandas/lib/python3.9/site-packages/pandas/core/ops/array_ops.py\"\u001b[0m, line \u001b[1;32m190\u001b[0m, in \u001b[1;35marithmetic_op\u001b[0m\n    res_values = na_arithmetic_op(lvalues, rvalues, op)\n",
      "  File \u001b[1;32m\"/Users/taugspurger/miniconda3/envs/pandorable-pandas/lib/python3.9/site-packages/pandas/core/ops/array_ops.py\"\u001b[0m, line \u001b[1;32m150\u001b[0m, in \u001b[1;35mna_arithmetic_op\u001b[0m\n    result = masked_arith_op(left, right, op)\n",
      "\u001b[0;36m  File \u001b[0;32m\"/Users/taugspurger/miniconda3/envs/pandorable-pandas/lib/python3.9/site-packages/pandas/core/ops/array_ops.py\"\u001b[0;36m, line \u001b[0;32m92\u001b[0;36m, in \u001b[0;35mmasked_arith_op\u001b[0;36m\u001b[0m\n\u001b[0;31m    result[mask] = op(xrav[mask], yrav[mask])\u001b[0m\n",
      "\u001b[0;31mTypeError\u001b[0m\u001b[0;31m:\u001b[0m unsupported operand type(s) for /: 'str' and 'str'\n"
     ]
    }
   ],
   "source": [
    "%xmode plain\n",
    "\n",
    "gdp_bad / cpi_bad"
   ]
  },
  {
   "cell_type": "markdown",
   "metadata": {},
   "source": [
    "What happened?"
   ]
  },
  {
   "cell_type": "code",
   "execution_count": 24,
   "metadata": {},
   "outputs": [
    {
     "data": {
      "text/html": [
       "<div>\n",
       "<style scoped>\n",
       "    .dataframe tbody tr th:only-of-type {\n",
       "        vertical-align: middle;\n",
       "    }\n",
       "\n",
       "    .dataframe tbody tr th {\n",
       "        vertical-align: top;\n",
       "    }\n",
       "\n",
       "    .dataframe thead th {\n",
       "        text-align: right;\n",
       "    }\n",
       "</style>\n",
       "<table border=\"1\" class=\"dataframe\">\n",
       "  <thead>\n",
       "    <tr style=\"text-align: right;\">\n",
       "      <th></th>\n",
       "      <th>DATE</th>\n",
       "      <th>GDP</th>\n",
       "    </tr>\n",
       "  </thead>\n",
       "  <tbody>\n",
       "    <tr>\n",
       "      <th>0</th>\n",
       "      <td>1947-01-01</td>\n",
       "      <td>243.164</td>\n",
       "    </tr>\n",
       "    <tr>\n",
       "      <th>1</th>\n",
       "      <td>1947-04-01</td>\n",
       "      <td>245.968</td>\n",
       "    </tr>\n",
       "    <tr>\n",
       "      <th>2</th>\n",
       "      <td>1947-07-01</td>\n",
       "      <td>249.585</td>\n",
       "    </tr>\n",
       "    <tr>\n",
       "      <th>3</th>\n",
       "      <td>1947-10-01</td>\n",
       "      <td>259.745</td>\n",
       "    </tr>\n",
       "    <tr>\n",
       "      <th>4</th>\n",
       "      <td>1948-01-01</td>\n",
       "      <td>265.742</td>\n",
       "    </tr>\n",
       "    <tr>\n",
       "      <th>...</th>\n",
       "      <td>...</td>\n",
       "      <td>...</td>\n",
       "    </tr>\n",
       "    <tr>\n",
       "      <th>290</th>\n",
       "      <td>2019-07-01</td>\n",
       "      <td>21540.325</td>\n",
       "    </tr>\n",
       "    <tr>\n",
       "      <th>291</th>\n",
       "      <td>2019-10-01</td>\n",
       "      <td>21747.394</td>\n",
       "    </tr>\n",
       "    <tr>\n",
       "      <th>292</th>\n",
       "      <td>2020-01-01</td>\n",
       "      <td>21561.139</td>\n",
       "    </tr>\n",
       "    <tr>\n",
       "      <th>293</th>\n",
       "      <td>2020-04-01</td>\n",
       "      <td>19520.114</td>\n",
       "    </tr>\n",
       "    <tr>\n",
       "      <th>294</th>\n",
       "      <td>2020-07-01</td>\n",
       "      <td>21157.635</td>\n",
       "    </tr>\n",
       "  </tbody>\n",
       "</table>\n",
       "<p>295 rows × 2 columns</p>\n",
       "</div>"
      ],
      "text/plain": [
       "           DATE        GDP\n",
       "0    1947-01-01    243.164\n",
       "1    1947-04-01    245.968\n",
       "2    1947-07-01    249.585\n",
       "3    1947-10-01    259.745\n",
       "4    1948-01-01    265.742\n",
       "..          ...        ...\n",
       "290  2019-07-01  21540.325\n",
       "291  2019-10-01  21747.394\n",
       "292  2020-01-01  21561.139\n",
       "293  2020-04-01  19520.114\n",
       "294  2020-07-01  21157.635\n",
       "\n",
       "[295 rows x 2 columns]"
      ]
     },
     "execution_count": 24,
     "metadata": {},
     "output_type": "execute_result"
    }
   ],
   "source": [
    "gdp_bad"
   ]
  },
  {
   "cell_type": "code",
   "execution_count": 25,
   "metadata": {},
   "outputs": [
    {
     "data": {
      "text/plain": [
       "DATE\n",
       "1947-01-01    243.164\n",
       "1947-04-01    245.968\n",
       "1947-07-01    249.585\n",
       "1947-10-01    259.745\n",
       "1948-01-01    265.742\n",
       "Name: GDP, dtype: float64"
      ]
     },
     "execution_count": 25,
     "metadata": {},
     "output_type": "execute_result"
    }
   ],
   "source": [
    "# use .squeeze to convert a 1 column df to a Series\n",
    "gdp = pd.read_csv('data/GDP.csv.gz', index_col='DATE',\n",
    "                  parse_dates=['DATE'])[\"GDP\"]\n",
    "gdp.head()"
   ]
  },
  {
   "cell_type": "code",
   "execution_count": 26,
   "metadata": {},
   "outputs": [
    {
     "data": {
      "text/plain": [
       "DATE\n",
       "1947-01-01    21.48\n",
       "1947-02-01    21.62\n",
       "1947-03-01    22.00\n",
       "1947-04-01    22.00\n",
       "1947-05-01    21.95\n",
       "Name: CPIAUCSL, dtype: float64"
      ]
     },
     "execution_count": 26,
     "metadata": {},
     "output_type": "execute_result"
    }
   ],
   "source": [
    "cpi = pd.read_csv('data/CPIAUCSL.csv.gz', index_col='DATE',\n",
    "                  parse_dates=['DATE'])[\"CPIAUCSL\"]\n",
    "cpi.head()"
   ]
  },
  {
   "cell_type": "code",
   "execution_count": 27,
   "metadata": {},
   "outputs": [
    {
     "data": {
      "text/plain": [
       "DATE\n",
       "1947-01-01    11.320484\n",
       "1947-02-01          NaN\n",
       "1947-03-01          NaN\n",
       "1947-04-01    11.180364\n",
       "1947-05-01          NaN\n",
       "                ...    \n",
       "2020-05-01          NaN\n",
       "2020-06-01          NaN\n",
       "2020-07-01    81.777171\n",
       "2020-08-01          NaN\n",
       "2020-09-01          NaN\n",
       "Length: 885, dtype: float64"
      ]
     },
     "execution_count": 27,
     "metadata": {},
     "output_type": "execute_result"
    }
   ],
   "source": [
    "rgdp = gdp / cpi\n",
    "rgdp\n"
   ]
  },
  {
   "cell_type": "markdown",
   "metadata": {},
   "source": [
    "**What happened?**\n",
    "\n",
    "In pandas, any time you do an operation involving multiple pandas objects (dataframes, series), pandas will *align* the inputs. Alignment is a two-step process:\n",
    "\n",
    "1. Take the union of the labels\n",
    "2. Reindex the inputs to the union of the labels"
   ]
  },
  {
   "cell_type": "code",
   "execution_count": 29,
   "metadata": {},
   "outputs": [
    {
     "data": {
      "text/plain": [
       "DatetimeIndex(['1947-01-01', '1947-02-01', '1947-03-01', '1947-04-01',\n",
       "               '1947-05-01', '1947-06-01', '1947-07-01', '1947-08-01',\n",
       "               '1947-09-01', '1947-10-01',\n",
       "               ...\n",
       "               '2019-12-01', '2020-01-01', '2020-02-01', '2020-03-01',\n",
       "               '2020-04-01', '2020-05-01', '2020-06-01', '2020-07-01',\n",
       "               '2020-08-01', '2020-09-01'],\n",
       "              dtype='datetime64[ns]', name='DATE', length=885, freq='MS')"
      ]
     },
     "execution_count": 29,
     "metadata": {},
     "output_type": "execute_result"
    }
   ],
   "source": [
    "# manual alignment, just for demonstration:\n",
    "\n",
    "all_dates = gdp.index.union(cpi.index)\n",
    "all_dates"
   ]
  },
  {
   "cell_type": "code",
   "execution_count": 30,
   "metadata": {},
   "outputs": [
    {
     "data": {
      "text/plain": [
       "DATE\n",
       "1947-01-01      243.164\n",
       "1947-02-01          NaN\n",
       "1947-03-01          NaN\n",
       "1947-04-01      245.968\n",
       "1947-05-01          NaN\n",
       "                ...    \n",
       "2020-05-01          NaN\n",
       "2020-06-01          NaN\n",
       "2020-07-01    21157.635\n",
       "2020-08-01          NaN\n",
       "2020-09-01          NaN\n",
       "Freq: MS, Name: GDP, Length: 885, dtype: float64"
      ]
     },
     "execution_count": 30,
     "metadata": {},
     "output_type": "execute_result"
    }
   ],
   "source": [
    "gdp2 = gdp.reindex(all_dates)\n",
    "gdp2"
   ]
  },
  {
   "cell_type": "code",
   "execution_count": 31,
   "metadata": {},
   "outputs": [
    {
     "data": {
      "text/plain": [
       "DATE\n",
       "1947-01-01     21.480\n",
       "1947-02-01     21.620\n",
       "1947-03-01     22.000\n",
       "1947-04-01     22.000\n",
       "1947-05-01     21.950\n",
       "               ...   \n",
       "2020-05-01    255.768\n",
       "2020-06-01    257.214\n",
       "2020-07-01    258.723\n",
       "2020-08-01    259.681\n",
       "2020-09-01    260.209\n",
       "Freq: MS, Name: CPIAUCSL, Length: 885, dtype: float64"
      ]
     },
     "execution_count": 31,
     "metadata": {},
     "output_type": "execute_result"
    }
   ],
   "source": [
    "cpi2 = cpi.reindex(all_dates)\n",
    "cpi2"
   ]
  },
  {
   "cell_type": "code",
   "execution_count": 33,
   "metadata": {},
   "outputs": [
    {
     "data": {
      "text/plain": [
       "DATE\n",
       "1947-01-01    11.320484\n",
       "1947-02-01          NaN\n",
       "1947-03-01          NaN\n",
       "1947-04-01    11.180364\n",
       "1947-05-01          NaN\n",
       "                ...    \n",
       "2020-05-01          NaN\n",
       "2020-06-01          NaN\n",
       "2020-07-01    81.777171\n",
       "2020-08-01          NaN\n",
       "2020-09-01          NaN\n",
       "Freq: MS, Length: 885, dtype: float64"
      ]
     },
     "execution_count": 33,
     "metadata": {},
     "output_type": "execute_result"
    }
   ],
   "source": [
    "rgdp2 = gdp2 / cpi2\n",
    "rgdp2"
   ]
  },
  {
   "cell_type": "markdown",
   "metadata": {},
   "source": [
    "So when we wrote\n",
    "\n",
    "```python\n",
    "rgdp = gdp / cpi\n",
    "```\n",
    "\n",
    "pandas performs\n",
    "\n",
    "```python\n",
    "all_dates = gdp.index.union(cpi.index)\n",
    "rgdp = gdp.reindex(all_dates) / cpi.reindex(all_dates)\n",
    "```"
   ]
  },
  {
   "cell_type": "markdown",
   "metadata": {},
   "source": [
    "## Missing Data"
   ]
  },
  {
   "cell_type": "code",
   "execution_count": null,
   "metadata": {},
   "outputs": [],
   "source": []
  },
  {
   "cell_type": "markdown",
   "metadata": {},
   "source": [
    "## Exercise"
   ]
  },
  {
   "cell_type": "code",
   "execution_count": 43,
   "metadata": {},
   "outputs": [],
   "source": [
    "def fetch(code):\n",
    "    url = \"https://fred.stlouisfed.org/graph/fredgraph.csv?bgcolor=%23e1e9f0&chart_type=line&drp=0&fo=open%20sans&graph_bgcolor=%23ffffff&height=450&mode=fred&recession_bars=on&txtcolor=%23444444&ts=12&tts=12&width=1168&nt=0&thu=0&trc=0&show_legend=yes&show_axis_titles=yes&show_tooltip=yes&id={code}&scale=left&cosd=2000-12-01&coed=2020-08-01&line_color=%234572a7&link_values=false&line_style=solid&mark_type=none&mw=3&lw=2&ost=-99999&oet=99999&mma=0&fml=a&fq=Monthly&fam=avg&fgst=lin&fgsnd=2020-02-01&line_index=1&transformation=lin&vintage_date=2020-11-01&revision_date=2020-11-01&nd=2000-12-01\".format(code=code)\n",
    "    return pd.read_csv(url, index_col=\"DATE\", parse_dates=[\"DATE\"])[code]"
   ]
  },
  {
   "cell_type": "code",
   "execution_count": 45,
   "metadata": {},
   "outputs": [],
   "source": [
    "series = ['JTSJOL', 'JTSQUL', 'JTSHIL', 'JTSLDL']\n",
    "names = ['openings', 'quits', 'hires', 'layoffs']\n",
    "\n",
    "colors = {'quits': '#52b5ea', 'layoffs': '#d32c2c',\n",
    "          'hires': '#2531db', 'openings': '#fffb49'}\n",
    "\n",
    "area_colors = [colors['quits'], colors['layoffs']]\n",
    "line_colors = [colors['hires'], colors['openings']]"
   ]
  },
  {
   "cell_type": "code",
   "execution_count": 46,
   "metadata": {},
   "outputs": [
    {
     "data": {
      "text/plain": [
       "[DATE\n",
       " 2000-12-01    4868\n",
       " 2001-01-01    5362\n",
       " 2001-02-01    5008\n",
       " 2001-03-01    4698\n",
       " 2001-04-01    4752\n",
       "               ... \n",
       " 2020-04-01    4996\n",
       " 2020-05-01    5371\n",
       " 2020-06-01    6001\n",
       " 2020-07-01    6697\n",
       " 2020-08-01    6493\n",
       " Name: JTSJOL, Length: 237, dtype: int64,\n",
       " DATE\n",
       " 2000-12-01    2868\n",
       " 2001-01-01    3261\n",
       " 2001-02-01    3040\n",
       " 2001-03-01    3041\n",
       " 2001-04-01    3172\n",
       "               ... \n",
       " 2020-04-01    1877\n",
       " 2020-05-01    2067\n",
       " 2020-06-01    2605\n",
       " 2020-07-01    2932\n",
       " 2020-08-01    2793\n",
       " Name: JTSQUL, Length: 237, dtype: int64,\n",
       " DATE\n",
       " 2000-12-01    5426\n",
       " 2001-01-01    5722\n",
       " 2001-02-01    5303\n",
       " 2001-03-01    5528\n",
       " 2001-04-01    5204\n",
       "               ... \n",
       " 2020-04-01    4047\n",
       " 2020-05-01    7199\n",
       " 2020-06-01    6970\n",
       " 2020-07-01    5903\n",
       " 2020-08-01    5919\n",
       " Name: JTSHIL, Length: 237, dtype: int64,\n",
       " DATE\n",
       " 2000-12-01    2035\n",
       " 2001-01-01    2220\n",
       " 2001-02-01    1838\n",
       " 2001-03-01    2126\n",
       " 2001-04-01    1880\n",
       "               ... \n",
       " 2020-04-01    7708\n",
       " 2020-05-01    1903\n",
       " 2020-06-01    1995\n",
       " 2020-07-01    1745\n",
       " 2020-08-01    1473\n",
       " Name: JTSLDL, Length: 237, dtype: int64]"
      ]
     },
     "execution_count": 46,
     "metadata": {},
     "output_type": "execute_result"
    }
   ],
   "source": [
    "dfs = [fetch(code) for code in series]\n",
    "dfs"
   ]
  },
  {
   "cell_type": "code",
   "execution_count": 48,
   "metadata": {},
   "outputs": [
    {
     "data": {
      "text/plain": [
       "<AxesSubplot:xlabel='DATE'>"
      ]
     },
     "execution_count": 48,
     "metadata": {},
     "output_type": "execute_result"
    },
    {
     "data": {
      "image/png": "[encoded data removed]",
      "text/plain": [
       "<Figure size 432x288 with 1 Axes>"
      ]
     },
     "metadata": {
      "needs_background": "light"
     },
     "output_type": "display_data"
    }
   ],
   "source": [
    "dfs[0].plot()"
   ]
  }
 ],
 "metadata": {
  "kernelspec": {
   "display_name": "Python 3",
   "language": "python",
   "name": "python3"
  },
  "language_info": {
   "codemirror_mode": {
    "name": "ipython",
    "version": 3
   },
   "file_extension": ".py",
   "mimetype": "text/x-python",
   "name": "python",
   "nbconvert_exporter": "python",
   "pygments_lexer": "ipython3",
   "version": "3.9.0"
  }
 },
 "nbformat": 4,
 "nbformat_minor": 4
}
