{
 "cells": [
  {
   "cell_type": "markdown",
   "metadata": {},
   "source": [
    "# Alignment\n",
    "\n",
    "This notebook covers [*alignment*](https://pandas.pydata.org/docs/user_guide/dsintro.html#dsintro-alignment), a feature of pandas that's crucial to using it well. It relies on the pandas' handling of *labels*."
   ]
  },
  {
   "cell_type": "code",
   "execution_count": null,
   "metadata": {},
   "outputs": [],
   "source": [
    "import numpy as np\n",
    "import pandas as pd\n",
    "import matplotlib.pyplot as plt"
   ]
  },
  {
   "cell_type": "markdown",
   "metadata": {},
   "source": [
    "## Goal: Compute Real GDP\n",
    "\n",
    "Let's learn through an example: Gross Domestic Product (the total output of a country) is measured in dollars. This means we we can't just compare the GDP from 1950 to the GDP from 2000, since the value of a dollar changed over that time (inflation).\n",
    "\n",
    "In the US, the Bureau of Economic Analysis already provides an estimate of real GDP, but we'll calculate something similar using the formula:\n",
    "\n",
    "$$\n",
    "real\\_GDP = \\frac{nominal\\_GDP}{price\\_index}\n",
    "$$\n",
    "\n",
    "I've downloaded a couple time series from [FRED](https://fred.stlouisfed.org), one for GDP and one for the Consumer Price Index.\n",
    "\n",
    "* U.S. Bureau of Labor Statistics, Consumer Price Index for All Urban Consumers: All Items in U.S. City Average [CPIAUCSL], retrieved from FRED, Federal Reserve Bank of St. Louis; https://fred.stlouisfed.org/series/CPIAUCSL, October 31, 2020.\n",
    "* U.S. Bureau of Economic Analysis, Gross Domestic Product [GDP], retrieved from FRED, Federal Reserve Bank of St. Louis; https://fred.stlouisfed.org/series/GDP, October 31, 2020.\n",
    "\n",
    "\n",
    "We're going to do things the wrong way first."
   ]
  },
  {
   "cell_type": "code",
   "execution_count": null,
   "metadata": {},
   "outputs": [],
   "source": [
    "gdp_bad = pd.read_csv(\"data/GDP.csv.gz\", parse_dates=[\"DATE\"])\n",
    "cpi_bad = pd.read_csv(\"data/CPIAUCSL.csv.gz\", parse_dates=[\"DATE\"])"
   ]
  },
  {
   "cell_type": "markdown",
   "metadata": {},
   "source": [
    "Our formula says `real_gdp = gdp / cpi`, so, let's try it!"
   ]
  },
  {
   "cell_type": "code",
   "execution_count": null,
   "metadata": {},
   "outputs": [],
   "source": [
    "%xmode plain\n",
    "\n",
    "gdp_bad / cpi_bad"
   ]
  },
  {
   "cell_type": "markdown",
   "metadata": {},
   "source": [
    "Whoops, what happened? We should probably look at our data:"
   ]
  },
  {
   "cell_type": "code",
   "execution_count": null,
   "metadata": {},
   "outputs": [],
   "source": [
    "gdp_bad"
   ]
  },
  {
   "cell_type": "code",
   "execution_count": null,
   "metadata": {},
   "outputs": [],
   "source": [
    "gdp_bad.dtypes"
   ]
  },
  {
   "cell_type": "code",
   "execution_count": null,
   "metadata": {},
   "outputs": [],
   "source": [
    "gdp_bad['DATE'][0]"
   ]
  },
  {
   "cell_type": "markdown",
   "metadata": {},
   "source": [
    "So, we've tried to divide a datetime by a datetime, and pandas has correctly raised a type error. That raises another issue though. These two timeseries have different frequencies."
   ]
  },
  {
   "cell_type": "code",
   "execution_count": null,
   "metadata": {},
   "outputs": [],
   "source": [
    "cpi_bad.head()"
   ]
  },
  {
   "cell_type": "markdown",
   "metadata": {},
   "source": [
    "CPI is measured monthly, while GDP is quarterly. What we'd really need to do is *join* the two timeseries on the `DATE` variable, and then do the operation. We could do that, but let's do things the pandorable way first.\n",
    "\n",
    "A DataFrame is a 2-D data structure composed of three components:\n",
    "\n",
    "1. The *values*, the actual data\n",
    "2. The *row labels*, stored in a `pandas.Index` class, accessible with `.index`\n",
    "3. The *column labels*, stored in a `pandas.Index` class, accessible with `.columns`\n",
    "\n",
    "\n",
    "![](https://pandas.pydata.org/docs/_images/01_table_dataframe1.svg)\n",
    "\n",
    "We'll use the *index* to store our *labels* (the dates). Then the only thing in the values is our observations (the GDP or CPI)."
   ]
  },
  {
   "cell_type": "code",
   "execution_count": null,
   "metadata": {},
   "outputs": [],
   "source": [
    "# Notice that we select the GDP column to convert the\n",
    "# 1-column DataFrame to a 1D Series\n",
    "gdp = pd.read_csv('data/GDP.csv.gz', index_col='DATE',\n",
    "                  parse_dates=['DATE'])[\"GDP\"]\n",
    "gdp.head()"
   ]
  },
  {
   "cell_type": "markdown",
   "metadata": {},
   "source": [
    "Notice that we selected the single column `\"GDP\"` using `[]`. This returns a `pandas.Series` object, a 1-D array *with row labels*.\n",
    "\n",
    "![](https://pandas.pydata.org/docs/_images/01_table_series.svg)"
   ]
  },
  {
   "cell_type": "code",
   "execution_count": null,
   "metadata": {},
   "outputs": [],
   "source": [
    "type(gdp)"
   ]
  },
  {
   "cell_type": "code",
   "execution_count": null,
   "metadata": {},
   "outputs": [],
   "source": [
    "gdp.index"
   ]
  },
  {
   "cell_type": "markdown",
   "metadata": {},
   "source": [
    "The actual values are a NumPy array of floats."
   ]
  },
  {
   "cell_type": "code",
   "execution_count": null,
   "metadata": {},
   "outputs": [],
   "source": [
    "gdp.to_numpy()[:10]"
   ]
  },
  {
   "cell_type": "markdown",
   "metadata": {},
   "source": [
    "Let's read in CPI as well."
   ]
  },
  {
   "cell_type": "code",
   "execution_count": null,
   "metadata": {},
   "outputs": [],
   "source": [
    "cpi = pd.read_csv('data/CPIAUCSL.csv.gz', index_col='DATE',\n",
    "                  parse_dates=['DATE'])[\"CPIAUCSL\"]\n",
    "cpi.head()"
   ]
  },
  {
   "cell_type": "markdown",
   "metadata": {},
   "source": [
    "And let's try the formula again."
   ]
  },
  {
   "cell_type": "code",
   "execution_count": null,
   "metadata": {},
   "outputs": [],
   "source": [
    "rgdp = gdp / cpi\n",
    "rgdp"
   ]
  },
  {
   "cell_type": "markdown",
   "metadata": {},
   "source": [
    "**What happened?**\n",
    "\n",
    "We've gotten our answer, but is there anything in the output that's surprising? What are these `NaN`s?\n",
    "\n",
    "In pandas, any time you do an operation involving multiple pandas objects (dataframes, series), pandas will *align* the inputs. Alignment is a two-step process:\n",
    "\n",
    "1. Take the union of the labels\n",
    "2. Reindex the all inputs to the union of the labels\n",
    "\n",
    "Only after that does the operation (division in this case) happen.\n",
    "\n",
    "Looking at the raw data, we see that CPI is measured monthly, while GDP is just measured quarterly. So pandas has aligned the two (to monthly frequency, since that's the union), inserting missing values where there weren't any previously."
   ]
  },
  {
   "cell_type": "code",
   "execution_count": null,
   "metadata": {},
   "outputs": [],
   "source": [
    "# manual alignment, just for demonstration:\n",
    "\n",
    "all_dates = gdp.index.union(cpi.index)\n",
    "all_dates"
   ]
  },
  {
   "cell_type": "code",
   "execution_count": null,
   "metadata": {},
   "outputs": [],
   "source": [
    "gdp2 = gdp.reindex(all_dates)\n",
    "gdp2"
   ]
  },
  {
   "cell_type": "code",
   "execution_count": null,
   "metadata": {},
   "outputs": [],
   "source": [
    "cpi2 = cpi.reindex(all_dates)\n",
    "cpi2"
   ]
  },
  {
   "cell_type": "code",
   "execution_count": null,
   "metadata": {},
   "outputs": [],
   "source": [
    "rgdp2 = gdp2 / cpi2\n",
    "rgdp2"
   ]
  },
  {
   "cell_type": "markdown",
   "metadata": {},
   "source": [
    "So when we wrote\n",
    "\n",
    "```python\n",
    "rgdp = gdp / cpi\n",
    "```\n",
    "\n",
    "pandas performs\n",
    "\n",
    "```python\n",
    "all_dates = gdp.index.union(cpi.index)\n",
    "rgdp = gdp.reindex(all_dates) / cpi.reindex(all_dates)\n",
    "```\n",
    "\n",
    "This behavior is somewhat peculiar to pandas. But once you're used to it it's hard to go back. pandas handling the labels / alignment elimiates a class of errors that come from datasets not being aligned."
   ]
  },
  {
   "cell_type": "markdown",
   "metadata": {},
   "source": [
    "## Missing Data\n",
    "\n",
    "Just a quick aside on handling missing data: pandas provides tools for detecting and dealing with missing data. We'll use these throughout the tutorial."
   ]
  },
  {
   "cell_type": "code",
   "execution_count": null,
   "metadata": {},
   "outputs": [],
   "source": [
    "rgdp.isna()"
   ]
  },
  {
   "cell_type": "code",
   "execution_count": null,
   "metadata": {},
   "outputs": [],
   "source": [
    "rgdp.dropna()"
   ]
  },
  {
   "cell_type": "code",
   "execution_count": null,
   "metadata": {},
   "outputs": [],
   "source": [
    "rgdp.fillna(method='ffill')  # or fill with a scalar."
   ]
  },
  {
   "cell_type": "markdown",
   "metadata": {},
   "source": [
    "## Exercise:\n",
    "\n",
    "Normalize real GDP to year **2000** dollars.\n",
    "\n",
    "Right now, the unit on the `CPI` variable is \"Index 1982-1984=100\". This means that \"index value\" for the Consumer Price *Index* show year is the average of 1982 - 1984.\n",
    "\n",
    "To *renormalize* an index like CPI, divide it by the average of a different timespan (say the year 200) and multiply by 100."
   ]
  },
  {
   "cell_type": "code",
   "execution_count": null,
   "metadata": {},
   "outputs": [],
   "source": [
    "# use `.loc[start:end]` or `.loc[\"<year>\"]` to slice a subset of *rows*\n",
    "cpi.loc['1982':'1984'].mean()  # close enough to 100"
   ]
  },
  {
   "cell_type": "code",
   "execution_count": null,
   "metadata": {},
   "outputs": [],
   "source": [
    "# Get the mean CPI for the year 2000\n",
    "cpi_2000_average = cpi.loc[...]...\n",
    "\n",
    "# *renormalize* the entire `cpi` series to \"Index 2000\" units.\n",
    "cpi_2000 = 100 * (... / ...)\n",
    "\n",
    "# Compute real GDP again, this time in \"year 2000 dollars\".\n",
    "rgdp_2000 = ...\n",
    "rgdp_2000"
   ]
  },
  {
   "cell_type": "code",
   "execution_count": null,
   "metadata": {},
   "outputs": [],
   "source": [
    "%%file solutions/alignment-cpi2000.py\n",
    "cpi_2000_average = cpi.loc[\"2000\"].mean()\n",
    "\n",
    "# *renormalize* the entire `cpi` series to \"Index 2000\" units.\n",
    "cpi_2000 = 100 * (cpi / cpi_2000_average)\n",
    "\n",
    "# Compute real GDP again, this time in \"year 2000 dollars\".\n",
    "rgdp_2000 = gdp / cpi_2000\n",
    "rgdp_2000"
   ]
  },
  {
   "cell_type": "markdown",
   "metadata": {},
   "source": [
    "## Summary\n",
    "\n",
    "In pandas, you generally want to have *meaningful row labels*. They should uniquely identify each observation.\n",
    "Having a unique identifier is just good data hygenie. And since they're in the index they stay out of the way in operations.\n",
    "\n",
    "## Next Steps\n",
    "\n",
    "Now we'll discuss [Tidy Data](tidy.ipynb)."
   ]
  }
 ],
 "metadata": {
  "kernelspec": {
   "display_name": "Python 3",
   "language": "python",
   "name": "python3"
  },
  "language_info": {
   "codemirror_mode": {
    "name": "ipython",
    "version": 3
   },
   "file_extension": ".py",
   "mimetype": "text/x-python",
   "name": "python",
   "nbconvert_exporter": "python",
   "pygments_lexer": "ipython3",
   "version": "3.9.0"
  }
 },
 "nbformat": 4,
 "nbformat_minor": 4
}
