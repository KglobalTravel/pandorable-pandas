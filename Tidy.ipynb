{
 "cells": [
  {
   "cell_type": "markdown",
   "metadata": {},
   "source": [
    "# Tidy Data\n",
    "\n",
    "\n",
    "> Structuring datasets to facilitate analysis ([Wickham 2014](http://www.jstatsoft.org/v59/i10/paper))\n",
    "\n",
    "Tidy Data (and the closely related topic of reshaping data) is a way of structuring your data and APIs in a consistent way to make the data analysis process flow more smoothly.\n",
    "\n",
    "## Rules for the impatient\n",
    "\n",
    "\n",
    "1. Each variable forms a column\n",
    "2. Each observation forms a row\n",
    "\n",
    "In my experience, this is the hardest part of teaching pandas (or R / dplyr / the tidyverse). People can pick up syntax, methods, etc. But knowing what shape your data needs to be in to most easily answer your question is harder.\n",
    "\n",
    "## NBA Games\n",
    "\n",
    "Earlier, I grabbed some data from www.basketball-reference.com. It's a tad messy\n",
    "\n",
    "```\n",
    "Date,Start (ET),Unnamed: 2,Visitor/Neutral,PTS,Home/Neutral,PTS.1,Unnamed: 7,Notes\n",
    "October,,,,,,,,\n",
    "\"Tue, Oct 27, 2015\",8:00 pm,Box Score,Detroit Pistons,106.0,Atlanta Hawks,94.0,,\n",
    "\"Tue, Oct 27, 2015\",8:00 pm,Box Score,Cleveland Cavaliers,95.0,Chicago Bulls,97.0,,\n",
    "\"Tue, Oct 27, 2015\",10:30 pm,Box Score,New Orleans Pelicans,95.0,Golden State Warriors,111.0,,\n",
    "```\n",
    "\n",
    "There's some junk in there (what's this `Unnamed: 2` stuff?), but in the raw data, the fields we care about are something like\n",
    "\n",
    "date       | visitor team    | visitor points | home team     | home points |\n",
    "---------- | --------------- | -------------- | ------------- | ----------- |\n",
    "2015-10-07 | Detroit Pistons | 106            | Atlanta Hawks | 94          |"
   ]
  },
  {
   "cell_type": "code",
   "execution_count": null,
   "metadata": {},
   "outputs": [],
   "source": [
    "import pandas as pd\n",
    "\n",
    "games = pd.read_csv(\"data/games.csv.gz\")\n",
    "games"
   ]
  },
  {
   "cell_type": "markdown",
   "metadata": {},
   "source": [
    "We have some general cleaning up to do. We'll use a small method chain to handle all that."
   ]
  },
  {
   "cell_type": "code",
   "execution_count": null,
   "metadata": {},
   "outputs": [],
   "source": [
    "column_names = {'Date': 'date', 'Start (ET)': 'start',\n",
    "                'Unamed: 2': 'box', 'Visitor/Neutral': 'away_team', \n",
    "                'PTS': 'away_points', 'Home/Neutral': 'home_team',\n",
    "                'PTS.1': 'home_points', 'Unamed: 7': 'n_ot'}\n",
    "\n",
    "games = (\n",
    "    pd.read_csv(\"data/games.csv.gz\")\n",
    "      .rename(columns=column_names)\n",
    "      # Drop \"blank\" rows with >4 missing values\n",
    "      .dropna(thresh=4)\n",
    "      # Select just the columns we'll use\n",
    "      [['date', 'away_team', 'away_points', 'home_team', 'home_points']]\n",
    "      # Fix the dtype on the `date` column\n",
    "      .assign(date=lambda x: pd.to_datetime(x['date'], format='%a, %b %d, %Y'))\n",
    "      # Make a multi-level index with (row_number, date) as the index.\n",
    "      .set_index('date', append=True)\n",
    "      .rename_axis([\"game_id\", \"date\"])\n",
    "      .sort_index()\n",
    ")\n",
    "games.head()"
   ]
  },
  {
   "cell_type": "markdown",
   "metadata": {},
   "source": [
    "There's a couple new components in that chain:\n",
    "\n",
    "1. `DataFrame.rename(columns=dict)` to clean up the names a bit\n",
    "2. Selecting multiple columns with `[ list_of_columns ]`.\n",
    "3. `DataFrame.assign` to create a new column from an existing one\n",
    "4. `set_index` to move a column to the index to be a row label\n",
    "5. Multi-level row labels. This is like a composite primary key in SQL.\n",
    "\n",
    "\n",
    "Now onto our question: **How many days of rest did each team have between each game**?\n",
    "\n",
    "Given that question: is our data tidy?\n",
    "\n",
    "\n",
    "Or to put it another way: what would a tidy dataset look like? Write down the columns in a tidy dataset for this question."
   ]
  },
  {
   "cell_type": "markdown",
   "metadata": {},
   "source": [
    "## Melt\n",
    "\n",
    "\n",
    "![](images/melt.png)"
   ]
  },
  {
   "cell_type": "markdown",
   "metadata": {},
   "source": [
    "Our dataset is not tidy because we have *multiple observations per row*. Each row in `games` contains an observation for the home team *and* an observation for the away team.\n",
    "\n",
    "The `melt` method can help you here. You specify\n",
    "\n",
    "1. `value_vars`: The colums that the observation is currently spread across\n",
    "2. The `id_vars`: variables that, together with `value_vars` will uniquely identify the result. These are *repeated* as needed to stay with the original observation.\n",
    "3. The output column names for each of these."
   ]
  },
  {
   "cell_type": "code",
   "execution_count": null,
   "metadata": {},
   "outputs": [],
   "source": [
    "teams = (\n",
    "    games.reset_index()  # Move row labels to columns. melt works just with columns\n",
    "        .melt(id_vars=['game_id', 'date'],\n",
    "              value_vars=['away_team', 'home_team'],\n",
    "              value_name='team', var_name='home_away')\n",
    "        .sort_values(['game_id', 'date'])\n",
    ")\n",
    "teams.head()"
   ]
  },
  {
   "cell_type": "markdown",
   "metadata": {},
   "source": [
    "Now let's answer the question: How many days of rest did each team get between each game?\n",
    "Let's start with a single team, the Bulls."
   ]
  },
  {
   "cell_type": "code",
   "execution_count": null,
   "metadata": {},
   "outputs": [],
   "source": [
    "bulls = teams[teams['team'] == 'Chicago Bulls']\n",
    "bulls"
   ]
  },
  {
   "cell_type": "markdown",
   "metadata": {},
   "source": [
    "To answer this for the Bulls, we need two new methods:\n",
    "\n",
    "1. `.diff()`: Subtract one row from the previous.\n",
    "2. `.dt`: An *accessor* for getting the components of a datetime / timedelta column."
   ]
  },
  {
   "cell_type": "code",
   "execution_count": null,
   "metadata": {},
   "outputs": [],
   "source": [
    "bulls['date'].diff(1)"
   ]
  },
  {
   "cell_type": "code",
   "execution_count": null,
   "metadata": {},
   "outputs": [],
   "source": [
    "bulls['date'].diff().dt.days"
   ]
  },
  {
   "cell_type": "markdown",
   "metadata": {},
   "source": [
    "## Aside: groupby\n",
    "\n",
    "This pattern of \"apply some operation to each group\" is common in data analysis. In pandas, we do this with the `.groupby()` method. The components are\n",
    "\n",
    "1. `DataFrame.groupby(grouper)`: where `grouper` is a column or array to group the dataframe by\n",
    "2. An operation to apply to each group. This could be an aggregation like `.mean()` or `.count()`, or a 1:1 transformation like `.diff()`, or any arbitrary function passed to `.apply`."
   ]
  },
  {
   "cell_type": "code",
   "execution_count": null,
   "metadata": {},
   "outputs": [],
   "source": [
    "# previously: bulls['date'].diff().dt.days - 1\n",
    "# Repeat this for each group with `.groupby()`\n",
    "# 1. What do we group by?\n",
    "# 2. What operation do we apply to each group (select date, diff, days, subtract 1)\n",
    "rest = teams.groupby(...)...\n",
    "rest"
   ]
  },
  {
   "cell_type": "code",
   "execution_count": null,
   "metadata": {},
   "outputs": [],
   "source": [
    "%load solutions/tidy_groupby_rest.py"
   ]
  },
  {
   "cell_type": "markdown",
   "metadata": {},
   "source": [
    "Plotting that:"
   ]
  },
  {
   "cell_type": "code",
   "execution_count": null,
   "metadata": {},
   "outputs": [],
   "source": [
    "import seaborn as sns\n",
    "sns.ecdfplot(rest.dropna());"
   ]
  },
  {
   "cell_type": "markdown",
   "metadata": {},
   "source": [
    "Let's add that result to the `teams` dataframe."
   ]
  },
  {
   "cell_type": "code",
   "execution_count": null,
   "metadata": {},
   "outputs": [],
   "source": [
    "teams['rest'] = rest\n",
    "teams.head()"
   ]
  },
  {
   "cell_type": "markdown",
   "metadata": {},
   "source": [
    "## Invert the melt\n",
    "\n",
    "We can use `pandas.pivot_table` to invert the `melt` operation. You describe the output shape you want."
   ]
  },
  {
   "cell_type": "code",
   "execution_count": null,
   "metadata": {},
   "outputs": [],
   "source": [
    "pd.pivot_table(teams, values='rest', index=['game_id', 'date'], columns='home_away')"
   ]
  },
  {
   "cell_type": "code",
   "execution_count": null,
   "metadata": {},
   "outputs": [],
   "source": [
    "by_game = (pd.pivot_table(teams, values='rest',\n",
    "                          index=['game_id', 'date'],\n",
    "                          columns='home_away')\n",
    "             .rename(columns={'away_team': 'away_rest',\n",
    "                              'home_team': 'home_rest'})\n",
    "             .rename_axis(None, axis='columns'))\n",
    "by_game.dropna().head()"
   ]
  },
  {
   "cell_type": "code",
   "execution_count": null,
   "metadata": {},
   "outputs": [],
   "source": [
    "games_rest = pd.concat([games, by_game], axis='columns').dropna()\n",
    "games_rest"
   ]
  },
  {
   "cell_type": "markdown",
   "metadata": {},
   "source": [
    "So now we have two datasets, either of which might be \"tidy\" *depending on the question*.\n",
    "\n",
    "When we're asking *team*-level questions (e.g. does the average days of rest vary over the course of the season?) we'd use `teams`. When we're asking *game*-level questions then we'd use `games_rest`.\n",
    "\n",
    "## Exercise\n",
    "\n",
    "Does the home team tend to win more often when they're more rested than the away team? Does this question need data on *games* or *teams*?\n",
    "\n",
    "There's several ways to get at this question. My solution breaks it into three steps:\n",
    "\n",
    "1. Create a boolean series indicating whether the home team had more rest than the away team\n",
    "2. Create a boolean series indicating whether the home team won (more points)\n",
    "3. Group the \"home team won\" series by the \"home team had more rest\" series and take the mean."
   ]
  },
  {
   "cell_type": "code",
   "execution_count": null,
   "metadata": {},
   "outputs": [],
   "source": [
    "# 1. Did the home team have more rest?\n",
    "home_more_rested = games_rest[...] > games_rest[...]\n",
    "\n",
    "# 2. Did the home team win?\n",
    "home_won = games[...] ... \n",
    "\n",
    "# 3. Group and take the mean\n",
    "....groupby(...)...."
   ]
  },
  {
   "cell_type": "code",
   "execution_count": null,
   "metadata": {},
   "outputs": [],
   "source": [
    "# %load solutions/tidy_rest_advantage.py\n",
    "home_more_rested = games_rest['home_rest'] > games_rest['away_rest']\n",
    "home_won = games_rest['home_points'] > games_rest['away_points']\n",
    "home_won.groupby(home_more_rested).mean()\n"
   ]
  },
  {
   "cell_type": "markdown",
   "metadata": {},
   "source": [
    "## Next Steps\n",
    "\n",
    "Next, we'll move to [Performance](Performance.ipynb)."
   ]
  }
 ],
 "metadata": {
  "kernelspec": {
   "display_name": "Python 3",
   "language": "python",
   "name": "python3"
  },
  "language_info": {
   "codemirror_mode": {
    "name": "ipython",
    "version": 3
   },
   "file_extension": ".py",
   "mimetype": "text/x-python",
   "name": "python",
   "nbconvert_exporter": "python",
   "pygments_lexer": "ipython3",
   "version": "3.9.0"
  }
 },
 "nbformat": 4,
 "nbformat_minor": 4
}
