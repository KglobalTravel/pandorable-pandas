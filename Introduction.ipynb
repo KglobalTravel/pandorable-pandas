{
 "cells": [
  {
   "cell_type": "markdown",
   "metadata": {},
   "source": [
    "# Pandorable pandas\n",
    "\n",
    "pandas is an extremely powerful and extremely useful library for doing data analysis in Python. In this tutorial, we'll emphasize writing code that is both clean and high-performance.\n",
    "\n",
    "## Contents\n",
    "\n",
    "- [Introduction](Introduction.ipynb)\n",
    "- [Alignment](Alignment.ipynb)\n",
    "- [Tidy Data](Tidy.ipynb)\n",
    "- [Performance](Performance.ipynb)\n",
    "\n",
    "## Preview\n",
    "\n",
    "As a taste of what we'll learn today, let's read in some data on flights in the New York region. Each row is a single flight. We have columns for the date, airline, plance, origin and destination, delay, etc."
   ]
  },
  {
   "cell_type": "code",
   "execution_count": null,
   "metadata": {},
   "outputs": [],
   "source": [
    "import pandas as pd\n",
    "import seaborn as sns\n",
    "\n",
    "flights = pd.read_csv(\"data/ny-flights.csv.gz\", parse_dates=[\"fl_date\", \"dep\", \"arr\"])\n",
    "flights"
   ]
  },
  {
   "cell_type": "markdown",
   "metadata": {},
   "source": [
    "With pandas we can quickly load data, select subsets, and transform it for downstream tasks like modelling or visualization. For example we'll we can answer the question \"How many planes are usually taking off?\" by with a small chain of methods that go from raw data to visual."
   ]
  },
  {
   "cell_type": "code",
   "execution_count": null,
   "metadata": {},
   "outputs": [],
   "source": [
    "(flights['dep']\n",
    "    .value_counts()\n",
    "    .resample('H')\n",
    "    .sum()\n",
    "    .rolling(24).mean()\n",
    "    .plot(figsize=(12, 6),\n",
    "          title=\"Number of Flights (24H Rolling Mean)\"))\n",
    "sns.despine()"
   ]
  },
  {
   "cell_type": "markdown",
   "metadata": {},
   "source": [
    "Combined with libraries like [seaborn](http://seaborn.pydata.org), we can quickly visualize the number of flights per carrier."
   ]
  },
  {
   "cell_type": "code",
   "execution_count": null,
   "metadata": {},
   "outputs": [],
   "source": [
    "sns.countplot(\n",
    "    x='unique_carrier',\n",
    "    data=flights,\n",
    "    order=flights['unique_carrier'].value_counts().index,\n",
    "    palette='Blues_r'\n",
    ")\n",
    "sns.despine()"
   ]
  },
  {
   "cell_type": "markdown",
   "metadata": {},
   "source": [
    "We can select subsets of the data (those with a delay between 1 and 500 minutes) and visualize the joint distribution of arrival and departure delays."
   ]
  },
  {
   "cell_type": "code",
   "execution_count": null,
   "metadata": {},
   "outputs": [],
   "source": [
    "mask = (flights[\"dep_delay\"] > 1) & (flights[\"dep_delay\"] < 500)\n",
    "\n",
    "sns.jointplot(x='dep_delay',\n",
    "              y='arr_delay',\n",
    "              data=flights[mask],\n",
    "              alpha=.25, marker='.', height=8);"
   ]
  },
  {
   "cell_type": "markdown",
   "metadata": {},
   "source": [
    "## A familiar story\n",
    "\n",
    "Part of writing pandorable code is readability. We want your data analysis pipelines to flow clearly from step to step. To illustrate this, let's retell a story from [Jeff Allen's](http://trestletech.com/wp-content/uploads/2015/07/dplyr.pdf) presentation on dplyr:\n",
    "\n",
    "```python\n",
    "tumble_after(\n",
    "    broke(\n",
    "        fell_down(\n",
    "            fetch(\n",
    "                went_up(jack_jill, \"hill\"),\n",
    "                \"water\"),\n",
    "            jack),\n",
    "        \"crown\"),\n",
    "    \"jill\"\n",
    ")\n",
    "```\n",
    "\n",
    "You probably recognized this as the story of *Jack and Jill*. But it may not have been immediately obvious, when told \"inside-out\" like that. Data analysis pipelines take raw data and transform them somehow into a useful result by applying a series of functions.\n",
    "\n",
    "In English, we read left-to-right, top-to-bottom; not inside out. Let's rewrite the story, using *method chaining*.\n",
    "\n",
    "```python\n",
    "story = (\n",
    "    jack_jill\n",
    "        .went_up(\"hill\")\n",
    "        .fetch(\"water\")\n",
    "        .fell_down(\"jack\")\n",
    "        .broke(\"crown\")\n",
    "        .tumble_after(\"jill\")\n",
    ")\n",
    "```\n",
    "\n",
    "This story, told two ways, illustrates a couple interesting points:\n",
    "\n",
    "1. Functions / methods are typically *verbs* (`went_up`, `fetch`, etc.).\n",
    "2. Function arguments are typically *nouns* (`jack`, `\"crown\"`, etc.).\n",
    "3. For readability, it's helpful to have the *structure of your code* reflect the data flow through the pipeline.\n",
    "\n",
    "\n",
    "We'll see a lot of method chaining today. It's best used in moderation.\n",
    "\n",
    "Next, we move onto [Alignment](Alignment.ipynb)."
   ]
  },
  {
   "cell_type": "code",
   "execution_count": null,
   "metadata": {},
   "outputs": [],
   "source": []
  }
 ],
 "metadata": {
  "kernelspec": {
   "display_name": "Python 3",
   "language": "python",
   "name": "python3"
  },
  "language_info": {
   "codemirror_mode": {
    "name": "ipython",
    "version": 3
   },
   "file_extension": ".py",
   "mimetype": "text/x-python",
   "name": "python",
   "nbconvert_exporter": "python",
   "pygments_lexer": "ipython3",
   "version": "3.9.0"
  }
 },
 "nbformat": 4,
 "nbformat_minor": 4
}
